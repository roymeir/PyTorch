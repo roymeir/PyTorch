{
  "nbformat": 4,
  "nbformat_minor": 0,
  "metadata": {
    "colab": {
      "provenance": [],
      "gpuType": "T4",
      "authorship_tag": "ABX9TyOQgiyrtzY5zgBr4/vlIQPu",
      "include_colab_link": true
    },
    "kernelspec": {
      "name": "python3",
      "display_name": "Python 3"
    },
    "language_info": {
      "name": "python"
    },
    "accelerator": "GPU"
  },
  "cells": [
    {
      "cell_type": "markdown",
      "metadata": {
        "id": "view-in-github",
        "colab_type": "text"
      },
      "source": [
        "<a href=\"https://colab.research.google.com/github/roymeir/PyTorch/blob/main/firstPyTorchNoteBook.ipynb\" target=\"_parent\"><img src=\"https://colab.research.google.com/assets/colab-badge.svg\" alt=\"Open In Colab\"/></a>"
      ]
    },
    {
      "cell_type": "markdown",
      "source": [
        "Resource notebook: https://www.learnpytorch.io/00_pytorch_fundamentals/"
      ],
      "metadata": {
        "id": "yicDiYvpBFIm"
      }
    },
    {
      "cell_type": "code",
      "source": [
        "import torch\n",
        "import pandas as pd\n",
        "import numpy as np\n",
        "import matplotlib.pyplot as plt"
      ],
      "metadata": {
        "id": "wOmTVO5hBPqT"
      },
      "execution_count": null,
      "outputs": []
    },
    {
      "cell_type": "markdown",
      "source": [
        "# Working With Tensors"
      ],
      "metadata": {
        "id": "RbxG5UErCXxb"
      }
    },
    {
      "cell_type": "code",
      "source": [
        "TENSOR = torch.tensor([[[[1,2,3,4,5],\n",
        "                         [6,7,8,9,10]]],\n",
        "                       [[[1,2,3,4,5],\n",
        "                         [6,7,8,9,10]]]])\n",
        "TENSOR.shape"
      ],
      "metadata": {
        "id": "PNHlvvhUCg9t",
        "colab": {
          "base_uri": "https://localhost:8080/"
        },
        "outputId": "1e8fa7ec-01e2-4032-a84c-1cd1f8ff7ada"
      },
      "execution_count": null,
      "outputs": [
        {
          "output_type": "execute_result",
          "data": {
            "text/plain": [
              "torch.Size([2, 1, 2, 5])"
            ]
          },
          "metadata": {},
          "execution_count": 3
        }
      ]
    },
    {
      "cell_type": "code",
      "source": [
        "rando = torch.rand(3,4,6,2)\n",
        "rando"
      ],
      "metadata": {
        "colab": {
          "base_uri": "https://localhost:8080/"
        },
        "id": "0dYgL3-qys8f",
        "outputId": "af9b4410-1d19-402f-c24b-b4af6de1b4a7"
      },
      "execution_count": null,
      "outputs": [
        {
          "output_type": "execute_result",
          "data": {
            "text/plain": [
              "tensor([[[[0.3994, 0.7010],\n",
              "          [0.1845, 0.4102],\n",
              "          [0.7001, 0.8420],\n",
              "          [0.4943, 0.3376],\n",
              "          [0.1652, 0.6444],\n",
              "          [0.1615, 0.3805]],\n",
              "\n",
              "         [[0.2929, 0.1560],\n",
              "          [0.9870, 0.2600],\n",
              "          [0.1615, 0.8820],\n",
              "          [0.5683, 0.8339],\n",
              "          [0.0364, 0.7625],\n",
              "          [0.1803, 0.1812]],\n",
              "\n",
              "         [[0.0262, 0.4778],\n",
              "          [0.6629, 0.6629],\n",
              "          [0.3680, 0.8439],\n",
              "          [0.6557, 0.1816],\n",
              "          [0.2619, 0.4689],\n",
              "          [0.4409, 0.4974]],\n",
              "\n",
              "         [[0.8322, 0.0894],\n",
              "          [0.1467, 0.5312],\n",
              "          [0.4099, 0.7694],\n",
              "          [0.3968, 0.5932],\n",
              "          [0.1050, 0.9031],\n",
              "          [0.4443, 0.9955]]],\n",
              "\n",
              "\n",
              "        [[[0.4443, 0.2340],\n",
              "          [0.1748, 0.4492],\n",
              "          [0.9387, 0.0938],\n",
              "          [0.5592, 0.1852],\n",
              "          [0.5504, 0.1746],\n",
              "          [0.5181, 0.1721]],\n",
              "\n",
              "         [[0.1160, 0.5107],\n",
              "          [0.4030, 0.9169],\n",
              "          [0.8811, 0.2009],\n",
              "          [0.5082, 0.6024],\n",
              "          [0.5597, 0.3952],\n",
              "          [0.4610, 0.5106]],\n",
              "\n",
              "         [[0.9752, 0.1152],\n",
              "          [0.4061, 0.0828],\n",
              "          [0.3816, 0.6727],\n",
              "          [0.1235, 0.2553],\n",
              "          [0.5076, 0.5507],\n",
              "          [0.2525, 0.2923]],\n",
              "\n",
              "         [[0.1825, 0.2530],\n",
              "          [0.0082, 0.7243],\n",
              "          [0.2432, 0.0695],\n",
              "          [0.3208, 0.7703],\n",
              "          [0.0705, 0.3326],\n",
              "          [0.5157, 0.8407]]],\n",
              "\n",
              "\n",
              "        [[[0.0514, 0.4466],\n",
              "          [0.5858, 0.0188],\n",
              "          [0.7978, 0.1758],\n",
              "          [0.7229, 0.0726],\n",
              "          [0.1202, 0.4864],\n",
              "          [0.0376, 0.9168]],\n",
              "\n",
              "         [[0.7937, 0.3341],\n",
              "          [0.2049, 0.9065],\n",
              "          [0.0085, 0.2315],\n",
              "          [0.1224, 0.1421],\n",
              "          [0.5896, 0.0208],\n",
              "          [0.4197, 0.3305]],\n",
              "\n",
              "         [[0.7885, 0.6302],\n",
              "          [0.8886, 0.8026],\n",
              "          [0.9445, 0.0042],\n",
              "          [0.8645, 0.3750],\n",
              "          [0.7416, 0.5803],\n",
              "          [0.5761, 0.7974]],\n",
              "\n",
              "         [[0.4514, 0.5618],\n",
              "          [0.8275, 0.2842],\n",
              "          [0.6651, 0.6206],\n",
              "          [0.9943, 0.3471],\n",
              "          [0.4167, 0.5867],\n",
              "          [0.7203, 0.4975]]]])"
            ]
          },
          "metadata": {},
          "execution_count": 4
        }
      ]
    },
    {
      "cell_type": "code",
      "source": [
        "check = torch.arange(start = 0,end = 10000, step = 19)\n",
        "# check\n",
        "# check.ndim(), check.size(),\n",
        "check.shape"
      ],
      "metadata": {
        "colab": {
          "base_uri": "https://localhost:8080/"
        },
        "id": "ZuIPnlKLz2EG",
        "outputId": "4ff03e71-a55b-4175-813e-b64cdcbdcc99"
      },
      "execution_count": null,
      "outputs": [
        {
          "output_type": "execute_result",
          "data": {
            "text/plain": [
              "torch.Size([527])"
            ]
          },
          "metadata": {},
          "execution_count": 5
        }
      ]
    },
    {
      "cell_type": "code",
      "source": [
        "zeroes = torch.zeros_like(check)\n",
        "zeroes.shape"
      ],
      "metadata": {
        "colab": {
          "base_uri": "https://localhost:8080/"
        },
        "id": "ZNn4uBiO1g0J",
        "outputId": "7aee4c2b-5b04-4a45-be7a-165b3dc875cc"
      },
      "execution_count": null,
      "outputs": [
        {
          "output_type": "execute_result",
          "data": {
            "text/plain": [
              "torch.Size([527])"
            ]
          },
          "metadata": {},
          "execution_count": 6
        }
      ]
    },
    {
      "cell_type": "code",
      "source": [
        "float32_tensor = torch.rand(3, 3, 2, dtype=torch.float32, device=\"cpu\")"
      ],
      "metadata": {
        "id": "7bZfoIpjP_Kn"
      },
      "execution_count": null,
      "outputs": []
    },
    {
      "cell_type": "code",
      "source": [
        "float16_tensor = float32_tensor.type(torch.float16)\n",
        "print(float16_tensor * float32_tensor)"
      ],
      "metadata": {
        "colab": {
          "base_uri": "https://localhost:8080/"
        },
        "id": "dceYpYe5QX_E",
        "outputId": "459eea29-ffac-452d-aea9-72ae6401f677"
      },
      "execution_count": null,
      "outputs": [
        {
          "output_type": "stream",
          "name": "stdout",
          "text": [
            "tensor([[[8.8344e-01, 3.2294e-01],\n",
            "         [6.1488e-01, 3.9257e-01],\n",
            "         [1.3444e-04, 7.1600e-01]],\n",
            "\n",
            "        [[3.1632e-01, 4.9780e-02],\n",
            "         [2.4420e-01, 2.6342e-01],\n",
            "         [8.3480e-01, 6.6803e-01]],\n",
            "\n",
            "        [[8.5355e-01, 1.5524e-01],\n",
            "         [6.4677e-01, 3.8323e-01],\n",
            "         [7.4947e-01, 1.6579e-02]]])\n"
          ]
        }
      ]
    },
    {
      "cell_type": "code",
      "source": [
        "# playing with tensor characteristics\n",
        "someTensor = torch.rand(3,4)\n",
        "someTensor"
      ],
      "metadata": {
        "colab": {
          "base_uri": "https://localhost:8080/"
        },
        "id": "LVbjUMcGRRHj",
        "outputId": "c271b740-0a09-4b5d-b1c2-f5e53101b679"
      },
      "execution_count": null,
      "outputs": [
        {
          "output_type": "execute_result",
          "data": {
            "text/plain": [
              "tensor([[0.5945, 0.9419, 0.2530, 0.9321],\n",
              "        [0.8087, 0.5861, 0.1921, 0.9378],\n",
              "        [0.2173, 0.7336, 0.1099, 0.5868]])"
            ]
          },
          "metadata": {},
          "execution_count": 9
        }
      ]
    },
    {
      "cell_type": "code",
      "source": [
        "print(f\"Tensor data type: {someTensor.dtype}\")\n",
        "print(f\"Tensor size: {someTensor.shape}\")\n",
        "print(f\"Tensor device: {someTensor.device}\")"
      ],
      "metadata": {
        "colab": {
          "base_uri": "https://localhost:8080/"
        },
        "id": "R5zM0JVUTGf2",
        "outputId": "a8cd491d-c3c2-4494-ef90-90b8d57fef0d"
      },
      "execution_count": null,
      "outputs": [
        {
          "output_type": "stream",
          "name": "stdout",
          "text": [
            "Tensor data type: torch.float32\n",
            "Tensor size: torch.Size([3, 4])\n",
            "Tensor device: cpu\n"
          ]
        }
      ]
    },
    {
      "cell_type": "code",
      "source": [
        "someTensor = someTensor.to('')\n",
        "print(f\"Tensor device: {someTensor.device}\")"
      ],
      "metadata": {
        "colab": {
          "base_uri": "https://localhost:8080/",
          "height": 189
        },
        "id": "RCAU0mTzTU4A",
        "outputId": "37ebb2e2-eef5-4091-aa09-40ca43abd5ca"
      },
      "execution_count": null,
      "outputs": [
        {
          "output_type": "error",
          "ename": "RuntimeError",
          "evalue": "ignored",
          "traceback": [
            "\u001b[0;31m---------------------------------------------------------------------------\u001b[0m",
            "\u001b[0;31mRuntimeError\u001b[0m                              Traceback (most recent call last)",
            "\u001b[0;32m<ipython-input-12-5c20ff5945ba>\u001b[0m in \u001b[0;36m<cell line: 1>\u001b[0;34m()\u001b[0m\n\u001b[0;32m----> 1\u001b[0;31m \u001b[0msomeTensor\u001b[0m \u001b[0;34m=\u001b[0m \u001b[0msomeTensor\u001b[0m\u001b[0;34m.\u001b[0m\u001b[0mto\u001b[0m\u001b[0;34m(\u001b[0m\u001b[0;34m''\u001b[0m\u001b[0;34m)\u001b[0m\u001b[0;34m\u001b[0m\u001b[0;34m\u001b[0m\u001b[0m\n\u001b[0m\u001b[1;32m      2\u001b[0m \u001b[0mprint\u001b[0m\u001b[0;34m(\u001b[0m\u001b[0;34mf\"Tensor device: {someTensor.device}\"\u001b[0m\u001b[0;34m)\u001b[0m\u001b[0;34m\u001b[0m\u001b[0;34m\u001b[0m\u001b[0m\n",
            "\u001b[0;31mRuntimeError\u001b[0m: Device string must not be empty"
          ]
        }
      ]
    },
    {
      "cell_type": "code",
      "source": [],
      "metadata": {
        "id": "O9gLzvItJuNr"
      },
      "execution_count": null,
      "outputs": []
    },
    {
      "cell_type": "code",
      "source": [
        "import time\n",
        "\n",
        "matrix = torch.rand(3, 4, 2, 5)\n",
        "\n",
        "reshaped_matrix = matrix.view(3, 4, 10)\n",
        "print(matrix)\n",
        "print(reshaped_matrix)\n",
        "# start_time = time.time()\n",
        "# result = torch.matmul(matrix, reshaped_matrix)\n",
        "# end_time = time.time()\n",
        "\n",
        "# execution_time = end_time - start_time\n",
        "# print(\"Execution time:\", execution_time, \"seconds\")\n"
      ],
      "metadata": {
        "colab": {
          "base_uri": "https://localhost:8080/"
        },
        "id": "agtGPd2LZvmJ",
        "outputId": "6bcf591c-854e-4ba2-fdb0-bbc068cba326"
      },
      "execution_count": null,
      "outputs": [
        {
          "output_type": "stream",
          "name": "stdout",
          "text": [
            "tensor([[[[0.8983, 0.5510, 0.9239, 0.2078, 0.7975],\n",
            "          [0.6528, 0.8820, 0.6822, 0.6111, 0.7590]],\n",
            "\n",
            "         [[0.3328, 0.9163, 0.0263, 0.0604, 0.6721],\n",
            "          [0.1560, 0.8172, 0.3487, 0.5379, 0.2683]],\n",
            "\n",
            "         [[0.5088, 0.1225, 0.9387, 0.8676, 0.3709],\n",
            "          [0.2232, 0.2067, 0.0058, 0.0176, 0.7778]],\n",
            "\n",
            "         [[0.1118, 0.3827, 0.8855, 0.7514, 0.1802],\n",
            "          [0.2247, 0.7528, 0.1331, 0.3433, 0.7027]]],\n",
            "\n",
            "\n",
            "        [[[0.2550, 0.5589, 0.1995, 0.2859, 0.4317],\n",
            "          [0.5768, 0.1575, 0.5178, 0.2376, 0.9073]],\n",
            "\n",
            "         [[0.3916, 0.0111, 0.6018, 0.9094, 0.9452],\n",
            "          [0.5073, 0.9227, 0.5317, 0.4684, 0.8840]],\n",
            "\n",
            "         [[0.8131, 0.9277, 0.3308, 0.3251, 0.2221],\n",
            "          [0.1908, 0.7259, 0.0258, 0.3137, 0.4769]],\n",
            "\n",
            "         [[0.4876, 0.5315, 0.9483, 0.9647, 0.1621],\n",
            "          [0.7864, 0.1188, 0.2201, 0.8129, 0.6636]]],\n",
            "\n",
            "\n",
            "        [[[0.8070, 0.0941, 0.5583, 0.9169, 0.8417],\n",
            "          [0.7908, 0.1295, 0.9681, 0.4163, 0.6640]],\n",
            "\n",
            "         [[0.0695, 0.5902, 0.1144, 0.3650, 0.0364],\n",
            "          [0.1765, 0.2393, 0.7898, 0.2657, 0.2997]],\n",
            "\n",
            "         [[0.3496, 0.5509, 0.0571, 0.8328, 0.6925],\n",
            "          [0.8881, 0.0931, 0.7275, 0.0800, 0.4662]],\n",
            "\n",
            "         [[0.4060, 0.6380, 0.4230, 0.7282, 0.5684],\n",
            "          [0.2634, 0.2144, 0.9336, 0.6171, 0.9267]]]])\n",
            "tensor([[[0.8983, 0.5510, 0.9239, 0.2078, 0.7975, 0.6528, 0.8820, 0.6822,\n",
            "          0.6111, 0.7590],\n",
            "         [0.3328, 0.9163, 0.0263, 0.0604, 0.6721, 0.1560, 0.8172, 0.3487,\n",
            "          0.5379, 0.2683],\n",
            "         [0.5088, 0.1225, 0.9387, 0.8676, 0.3709, 0.2232, 0.2067, 0.0058,\n",
            "          0.0176, 0.7778],\n",
            "         [0.1118, 0.3827, 0.8855, 0.7514, 0.1802, 0.2247, 0.7528, 0.1331,\n",
            "          0.3433, 0.7027]],\n",
            "\n",
            "        [[0.2550, 0.5589, 0.1995, 0.2859, 0.4317, 0.5768, 0.1575, 0.5178,\n",
            "          0.2376, 0.9073],\n",
            "         [0.3916, 0.0111, 0.6018, 0.9094, 0.9452, 0.5073, 0.9227, 0.5317,\n",
            "          0.4684, 0.8840],\n",
            "         [0.8131, 0.9277, 0.3308, 0.3251, 0.2221, 0.1908, 0.7259, 0.0258,\n",
            "          0.3137, 0.4769],\n",
            "         [0.4876, 0.5315, 0.9483, 0.9647, 0.1621, 0.7864, 0.1188, 0.2201,\n",
            "          0.8129, 0.6636]],\n",
            "\n",
            "        [[0.8070, 0.0941, 0.5583, 0.9169, 0.8417, 0.7908, 0.1295, 0.9681,\n",
            "          0.4163, 0.6640],\n",
            "         [0.0695, 0.5902, 0.1144, 0.3650, 0.0364, 0.1765, 0.2393, 0.7898,\n",
            "          0.2657, 0.2997],\n",
            "         [0.3496, 0.5509, 0.0571, 0.8328, 0.6925, 0.8881, 0.0931, 0.7275,\n",
            "          0.0800, 0.4662],\n",
            "         [0.4060, 0.6380, 0.4230, 0.7282, 0.5684, 0.2634, 0.2144, 0.9336,\n",
            "          0.6171, 0.9267]]])\n"
          ]
        }
      ]
    },
    {
      "cell_type": "code",
      "source": [
        "torch.matmul(torch.rand(13,15), torch.rand(15,2))"
      ],
      "metadata": {
        "colab": {
          "base_uri": "https://localhost:8080/"
        },
        "id": "9z0fXnh4d3tJ",
        "outputId": "dc555e1e-a9e0-4d98-c646-ef642d374623"
      },
      "execution_count": null,
      "outputs": [
        {
          "output_type": "execute_result",
          "data": {
            "text/plain": [
              "tensor([[4.1411, 4.5663],\n",
              "        [1.8887, 2.9105],\n",
              "        [2.9049, 3.3856],\n",
              "        [3.3553, 4.0213],\n",
              "        [2.9009, 2.8299],\n",
              "        [3.6211, 3.8187],\n",
              "        [3.7788, 4.5758],\n",
              "        [3.0524, 4.1584],\n",
              "        [4.3399, 4.6897],\n",
              "        [4.5101, 4.4361],\n",
              "        [3.1943, 3.9673],\n",
              "        [3.7992, 3.5547],\n",
              "        [2.6897, 3.3091]])"
            ]
          },
          "metadata": {},
          "execution_count": 14
        }
      ]
    },
    {
      "cell_type": "code",
      "source": [
        "import torch\n",
        "\n",
        "tensor1 = torch.tensor([1, 2, 3])\n",
        "tensor2 = torch.tensor([4, 5, 6])\n",
        "tensor3 = torch.tensor([7, 8, 9])\n",
        "\n",
        "stacked_tensor = torch.stack([tensor1, tensor2, tensor3])\n",
        "\n",
        "print(stacked_tensor)\n",
        "print(stacked_tensor.shape)\n"
      ],
      "metadata": {
        "colab": {
          "base_uri": "https://localhost:8080/"
        },
        "id": "nxy-u2gVnFLN",
        "outputId": "7d08d78b-dc78-4624-fd73-4c71d0e7f237"
      },
      "execution_count": null,
      "outputs": [
        {
          "output_type": "stream",
          "name": "stdout",
          "text": [
            "tensor([[1, 2, 3],\n",
            "        [4, 5, 6],\n",
            "        [7, 8, 9]])\n",
            "torch.Size([3, 3])\n"
          ]
        }
      ]
    },
    {
      "cell_type": "code",
      "source": [
        "import torch\n",
        "\n",
        "tensor = torch.arange(12)  # 1-dimensional tensor with 12 elements\n",
        "print(f\"original tensor: {tensor}\")\n",
        "# Using reshape()\n",
        "reshaped_tensor = tensor.reshape(3, 4)\n",
        "# reshaped_tensor will have shape (3, 4)\n",
        "print(f\"reshape tensor: {reshaped_tensor}\")\n",
        "# Using view()\n",
        "viewed_tensor = tensor.view(3, 4)\n",
        "# viewed_tensor will have shape (3, 4)\n",
        "print(f\"viewed tensor: {viewed_tensor}\")\n",
        "# Reshaping with inference\n",
        "reshaped_inferred = tensor.reshape(2, -1)\n",
        "# reshaped_inferred will have shape (3, 4)\n",
        "print(f\"reshape inferred: {reshaped_inferred}\")\n",
        "# Viewing with inference (raises an error)\n",
        "viewed_inferred = tensor.view(6, -1)\n",
        "# Raises a RuntimeError: Invalid argument 2: size '[-1 x 4]' is invalid for input with 12 elements\n",
        "print(f\"viewed inferred: {viewed_inferred}\")\n",
        "\n",
        "viewed_inferred += 5\n",
        "print(f\"viewed_inferred after adding: {viewed_inferred}\")\n",
        "print(f\"OG tensor after adding: {tensor}\")\n",
        "\n",
        "reshaped_inferred += 5\n",
        "print(f\"reshaped_inferred after adding: {reshaped_inferred}\")\n",
        "print(f\"OG tensor after adding: {tensor}\")\n",
        "print(f\"viewed_inferred after adding: {viewed_inferred}\")"
      ],
      "metadata": {
        "colab": {
          "base_uri": "https://localhost:8080/"
        },
        "id": "4BUIjWy_p4Si",
        "outputId": "f0e860cc-3b76-4016-d6e6-ac2bc538bca4"
      },
      "execution_count": null,
      "outputs": [
        {
          "output_type": "stream",
          "name": "stdout",
          "text": [
            "original tensor: tensor([ 0,  1,  2,  3,  4,  5,  6,  7,  8,  9, 10, 11])\n",
            "reshape tensor: tensor([[ 0,  1,  2,  3],\n",
            "        [ 4,  5,  6,  7],\n",
            "        [ 8,  9, 10, 11]])\n",
            "viewed tensor: tensor([[ 0,  1,  2,  3],\n",
            "        [ 4,  5,  6,  7],\n",
            "        [ 8,  9, 10, 11]])\n",
            "reshape inferred: tensor([[ 0,  1,  2,  3,  4,  5],\n",
            "        [ 6,  7,  8,  9, 10, 11]])\n",
            "viewed inferred: tensor([[ 0,  1],\n",
            "        [ 2,  3],\n",
            "        [ 4,  5],\n",
            "        [ 6,  7],\n",
            "        [ 8,  9],\n",
            "        [10, 11]])\n",
            "viewed_inferred after adding: tensor([[ 5,  6],\n",
            "        [ 7,  8],\n",
            "        [ 9, 10],\n",
            "        [11, 12],\n",
            "        [13, 14],\n",
            "        [15, 16]])\n",
            "OG tensor after adding: tensor([ 5,  6,  7,  8,  9, 10, 11, 12, 13, 14, 15, 16])\n",
            "reshaped_inferred after adding: tensor([[10, 11, 12, 13, 14, 15],\n",
            "        [16, 17, 18, 19, 20, 21]])\n",
            "OG tensor after adding: tensor([10, 11, 12, 13, 14, 15, 16, 17, 18, 19, 20, 21])\n",
            "viewed_inferred after adding: tensor([[10, 11],\n",
            "        [12, 13],\n",
            "        [14, 15],\n",
            "        [16, 17],\n",
            "        [18, 19],\n",
            "        [20, 21]])\n"
          ]
        }
      ]
    },
    {
      "cell_type": "code",
      "source": [
        "stacked = torch.stack([tensor,tensor], dim = -2)\n",
        "stacked"
      ],
      "metadata": {
        "colab": {
          "base_uri": "https://localhost:8080/"
        },
        "id": "MVbCL058s4T8",
        "outputId": "0e1e70be-3d37-4c94-9327-0630d1fbb20f"
      },
      "execution_count": null,
      "outputs": [
        {
          "output_type": "execute_result",
          "data": {
            "text/plain": [
              "tensor([[10, 11, 12, 13, 14, 15, 16, 17, 18, 19, 20, 21],\n",
              "        [10, 11, 12, 13, 14, 15, 16, 17, 18, 19, 20, 21]])"
            ]
          },
          "metadata": {},
          "execution_count": 17
        }
      ]
    },
    {
      "cell_type": "code",
      "source": [
        "x = torch.zeros(2, 1, 2, 1, 2)\n",
        "print(x.size())\n",
        "y = torch.squeeze(x)\n",
        "print(y.size())\n",
        "y = torch.squeeze(x, 0)\n",
        "print(y.size())\n",
        "y = torch.squeeze(x, 1)\n",
        "print(y.size())\n",
        "y = torch.squeeze(x, (1, 2, 3))\n",
        "print(y, y.size())"
      ],
      "metadata": {
        "colab": {
          "base_uri": "https://localhost:8080/"
        },
        "id": "NGpCmh7MtKHC",
        "outputId": "ce5b8e82-6c18-4088-c697-930680d41ba4"
      },
      "execution_count": null,
      "outputs": [
        {
          "output_type": "stream",
          "name": "stdout",
          "text": [
            "torch.Size([2, 1, 2, 1, 2])\n",
            "torch.Size([2, 2, 2])\n",
            "torch.Size([2, 1, 2, 1, 2])\n",
            "torch.Size([2, 2, 1, 2])\n",
            "tensor([[[0., 0.],\n",
            "         [0., 0.]],\n",
            "\n",
            "        [[0., 0.],\n",
            "         [0., 0.]]]) torch.Size([2, 2, 2])\n"
          ]
        }
      ]
    },
    {
      "cell_type": "code",
      "source": [
        "x = torch.rand(size=(224,224,3))\n",
        "x_permuted = x.permute(2,0,1)\n",
        "print(x)\n",
        "print(f\"\\n{x_permuted}\\n\")\n",
        "x[0,0,0] = 13000\n",
        "print(x)\n",
        "print(f\"\\n{x_permuted}\")"
      ],
      "metadata": {
        "colab": {
          "base_uri": "https://localhost:8080/"
        },
        "id": "RL53TEpHxAfM",
        "outputId": "5002e040-a690-46d0-b846-6415dc21fd9f"
      },
      "execution_count": null,
      "outputs": [
        {
          "output_type": "stream",
          "name": "stdout",
          "text": [
            "tensor([[[0.6458, 0.7156, 0.3595],\n",
            "         [0.4199, 0.5890, 0.4028],\n",
            "         [0.3632, 0.5160, 0.5688],\n",
            "         ...,\n",
            "         [0.2928, 0.5037, 0.4374],\n",
            "         [0.4710, 0.7770, 0.0539],\n",
            "         [0.7365, 0.6270, 0.5950]],\n",
            "\n",
            "        [[0.3553, 0.4384, 0.6882],\n",
            "         [0.7860, 0.1848, 0.6753],\n",
            "         [0.1463, 0.8327, 0.9086],\n",
            "         ...,\n",
            "         [0.5383, 0.7824, 0.9777],\n",
            "         [0.6526, 0.9680, 0.4617],\n",
            "         [0.4718, 0.5620, 0.7344]],\n",
            "\n",
            "        [[0.3843, 0.8979, 0.3996],\n",
            "         [0.8121, 0.7022, 0.1561],\n",
            "         [0.4880, 0.1311, 0.9905],\n",
            "         ...,\n",
            "         [0.7673, 0.4892, 0.4630],\n",
            "         [0.4070, 0.1071, 0.0506],\n",
            "         [0.0681, 0.6742, 0.8284]],\n",
            "\n",
            "        ...,\n",
            "\n",
            "        [[0.9128, 0.4925, 0.3357],\n",
            "         [0.6289, 0.4828, 0.8028],\n",
            "         [0.4295, 0.3430, 0.0853],\n",
            "         ...,\n",
            "         [0.9169, 0.2367, 0.7957],\n",
            "         [0.5971, 0.5091, 0.6070],\n",
            "         [0.5410, 0.6448, 0.3959]],\n",
            "\n",
            "        [[0.6589, 0.7177, 0.9580],\n",
            "         [0.4940, 0.2153, 0.2047],\n",
            "         [0.9425, 0.0605, 0.8640],\n",
            "         ...,\n",
            "         [0.0533, 0.6738, 0.9346],\n",
            "         [0.0493, 0.4407, 0.8195],\n",
            "         [0.0483, 0.2062, 0.6172]],\n",
            "\n",
            "        [[0.2635, 0.7408, 0.5190],\n",
            "         [0.0891, 0.6225, 0.6772],\n",
            "         [0.5913, 0.7084, 0.6063],\n",
            "         ...,\n",
            "         [0.3708, 0.7601, 0.6791],\n",
            "         [0.8258, 0.8766, 0.5192],\n",
            "         [0.8493, 0.0211, 0.7752]]])\n",
            "\n",
            "tensor([[[0.6458, 0.4199, 0.3632,  ..., 0.2928, 0.4710, 0.7365],\n",
            "         [0.3553, 0.7860, 0.1463,  ..., 0.5383, 0.6526, 0.4718],\n",
            "         [0.3843, 0.8121, 0.4880,  ..., 0.7673, 0.4070, 0.0681],\n",
            "         ...,\n",
            "         [0.9128, 0.6289, 0.4295,  ..., 0.9169, 0.5971, 0.5410],\n",
            "         [0.6589, 0.4940, 0.9425,  ..., 0.0533, 0.0493, 0.0483],\n",
            "         [0.2635, 0.0891, 0.5913,  ..., 0.3708, 0.8258, 0.8493]],\n",
            "\n",
            "        [[0.7156, 0.5890, 0.5160,  ..., 0.5037, 0.7770, 0.6270],\n",
            "         [0.4384, 0.1848, 0.8327,  ..., 0.7824, 0.9680, 0.5620],\n",
            "         [0.8979, 0.7022, 0.1311,  ..., 0.4892, 0.1071, 0.6742],\n",
            "         ...,\n",
            "         [0.4925, 0.4828, 0.3430,  ..., 0.2367, 0.5091, 0.6448],\n",
            "         [0.7177, 0.2153, 0.0605,  ..., 0.6738, 0.4407, 0.2062],\n",
            "         [0.7408, 0.6225, 0.7084,  ..., 0.7601, 0.8766, 0.0211]],\n",
            "\n",
            "        [[0.3595, 0.4028, 0.5688,  ..., 0.4374, 0.0539, 0.5950],\n",
            "         [0.6882, 0.6753, 0.9086,  ..., 0.9777, 0.4617, 0.7344],\n",
            "         [0.3996, 0.1561, 0.9905,  ..., 0.4630, 0.0506, 0.8284],\n",
            "         ...,\n",
            "         [0.3357, 0.8028, 0.0853,  ..., 0.7957, 0.6070, 0.3959],\n",
            "         [0.9580, 0.2047, 0.8640,  ..., 0.9346, 0.8195, 0.6172],\n",
            "         [0.5190, 0.6772, 0.6063,  ..., 0.6791, 0.5192, 0.7752]]])\n",
            "\n",
            "tensor([[[1.3000e+04, 7.1558e-01, 3.5949e-01],\n",
            "         [4.1989e-01, 5.8901e-01, 4.0284e-01],\n",
            "         [3.6319e-01, 5.1598e-01, 5.6884e-01],\n",
            "         ...,\n",
            "         [2.9279e-01, 5.0375e-01, 4.3735e-01],\n",
            "         [4.7102e-01, 7.7695e-01, 5.3931e-02],\n",
            "         [7.3649e-01, 6.2702e-01, 5.9502e-01]],\n",
            "\n",
            "        [[3.5525e-01, 4.3844e-01, 6.8825e-01],\n",
            "         [7.8595e-01, 1.8480e-01, 6.7531e-01],\n",
            "         [1.4633e-01, 8.3269e-01, 9.0864e-01],\n",
            "         ...,\n",
            "         [5.3832e-01, 7.8243e-01, 9.7768e-01],\n",
            "         [6.5257e-01, 9.6805e-01, 4.6170e-01],\n",
            "         [4.7183e-01, 5.6196e-01, 7.3444e-01]],\n",
            "\n",
            "        [[3.8426e-01, 8.9795e-01, 3.9965e-01],\n",
            "         [8.1206e-01, 7.0222e-01, 1.5612e-01],\n",
            "         [4.8800e-01, 1.3105e-01, 9.9046e-01],\n",
            "         ...,\n",
            "         [7.6731e-01, 4.8922e-01, 4.6298e-01],\n",
            "         [4.0698e-01, 1.0708e-01, 5.0603e-02],\n",
            "         [6.8107e-02, 6.7419e-01, 8.2840e-01]],\n",
            "\n",
            "        ...,\n",
            "\n",
            "        [[9.1280e-01, 4.9247e-01, 3.3566e-01],\n",
            "         [6.2892e-01, 4.8281e-01, 8.0276e-01],\n",
            "         [4.2947e-01, 3.4302e-01, 8.5275e-02],\n",
            "         ...,\n",
            "         [9.1694e-01, 2.3670e-01, 7.9571e-01],\n",
            "         [5.9713e-01, 5.0914e-01, 6.0697e-01],\n",
            "         [5.4105e-01, 6.4476e-01, 3.9593e-01]],\n",
            "\n",
            "        [[6.5888e-01, 7.1770e-01, 9.5797e-01],\n",
            "         [4.9397e-01, 2.1532e-01, 2.0471e-01],\n",
            "         [9.4249e-01, 6.0491e-02, 8.6396e-01],\n",
            "         ...,\n",
            "         [5.3259e-02, 6.7383e-01, 9.3462e-01],\n",
            "         [4.9307e-02, 4.4067e-01, 8.1949e-01],\n",
            "         [4.8253e-02, 2.0615e-01, 6.1724e-01]],\n",
            "\n",
            "        [[2.6355e-01, 7.4076e-01, 5.1896e-01],\n",
            "         [8.9138e-02, 6.2248e-01, 6.7722e-01],\n",
            "         [5.9130e-01, 7.0836e-01, 6.0627e-01],\n",
            "         ...,\n",
            "         [3.7079e-01, 7.6014e-01, 6.7906e-01],\n",
            "         [8.2576e-01, 8.7656e-01, 5.1924e-01],\n",
            "         [8.4925e-01, 2.1068e-02, 7.7518e-01]]])\n",
            "\n",
            "tensor([[[1.3000e+04, 4.1989e-01, 3.6319e-01,  ..., 2.9279e-01,\n",
            "          4.7102e-01, 7.3649e-01],\n",
            "         [3.5525e-01, 7.8595e-01, 1.4633e-01,  ..., 5.3832e-01,\n",
            "          6.5257e-01, 4.7183e-01],\n",
            "         [3.8426e-01, 8.1206e-01, 4.8800e-01,  ..., 7.6731e-01,\n",
            "          4.0698e-01, 6.8107e-02],\n",
            "         ...,\n",
            "         [9.1280e-01, 6.2892e-01, 4.2947e-01,  ..., 9.1694e-01,\n",
            "          5.9713e-01, 5.4105e-01],\n",
            "         [6.5888e-01, 4.9397e-01, 9.4249e-01,  ..., 5.3259e-02,\n",
            "          4.9307e-02, 4.8253e-02],\n",
            "         [2.6355e-01, 8.9138e-02, 5.9130e-01,  ..., 3.7079e-01,\n",
            "          8.2576e-01, 8.4925e-01]],\n",
            "\n",
            "        [[7.1558e-01, 5.8901e-01, 5.1598e-01,  ..., 5.0375e-01,\n",
            "          7.7695e-01, 6.2702e-01],\n",
            "         [4.3844e-01, 1.8480e-01, 8.3269e-01,  ..., 7.8243e-01,\n",
            "          9.6805e-01, 5.6196e-01],\n",
            "         [8.9795e-01, 7.0222e-01, 1.3105e-01,  ..., 4.8922e-01,\n",
            "          1.0708e-01, 6.7419e-01],\n",
            "         ...,\n",
            "         [4.9247e-01, 4.8281e-01, 3.4302e-01,  ..., 2.3670e-01,\n",
            "          5.0914e-01, 6.4476e-01],\n",
            "         [7.1770e-01, 2.1532e-01, 6.0491e-02,  ..., 6.7383e-01,\n",
            "          4.4067e-01, 2.0615e-01],\n",
            "         [7.4076e-01, 6.2248e-01, 7.0836e-01,  ..., 7.6014e-01,\n",
            "          8.7656e-01, 2.1068e-02]],\n",
            "\n",
            "        [[3.5949e-01, 4.0284e-01, 5.6884e-01,  ..., 4.3735e-01,\n",
            "          5.3931e-02, 5.9502e-01],\n",
            "         [6.8825e-01, 6.7531e-01, 9.0864e-01,  ..., 9.7768e-01,\n",
            "          4.6170e-01, 7.3444e-01],\n",
            "         [3.9965e-01, 1.5612e-01, 9.9046e-01,  ..., 4.6298e-01,\n",
            "          5.0603e-02, 8.2840e-01],\n",
            "         ...,\n",
            "         [3.3566e-01, 8.0276e-01, 8.5275e-02,  ..., 7.9571e-01,\n",
            "          6.0697e-01, 3.9593e-01],\n",
            "         [9.5797e-01, 2.0471e-01, 8.6396e-01,  ..., 9.3462e-01,\n",
            "          8.1949e-01, 6.1724e-01],\n",
            "         [5.1896e-01, 6.7722e-01, 6.0627e-01,  ..., 6.7906e-01,\n",
            "          5.1924e-01, 7.7518e-01]]])\n"
          ]
        }
      ]
    },
    {
      "cell_type": "code",
      "source": [
        "x = torch.arange(1,19).reshape(2,3,3)\n",
        "x,x[0,:,1],x[0,1,:], x[:,1,:]"
      ],
      "metadata": {
        "colab": {
          "base_uri": "https://localhost:8080/"
        },
        "id": "l-bFV3uIyNss",
        "outputId": "69f5247f-1f34-43fa-b80d-aab7487e8953"
      },
      "execution_count": null,
      "outputs": [
        {
          "output_type": "execute_result",
          "data": {
            "text/plain": [
              "(tensor([[[ 1,  2,  3],\n",
              "          [ 4,  5,  6],\n",
              "          [ 7,  8,  9]],\n",
              " \n",
              "         [[10, 11, 12],\n",
              "          [13, 14, 15],\n",
              "          [16, 17, 18]]]),\n",
              " tensor([2, 5, 8]),\n",
              " tensor([4, 5, 6]),\n",
              " tensor([[ 4,  5,  6],\n",
              "         [13, 14, 15]]))"
            ]
          },
          "metadata": {},
          "execution_count": 20
        }
      ]
    },
    {
      "cell_type": "code",
      "source": [
        "device = \"cuda\" if torch.cuda.is_available() else \"cpu\"\n",
        "device"
      ],
      "metadata": {
        "colab": {
          "base_uri": "https://localhost:8080/",
          "height": 36
        },
        "id": "SByh-pbuG7Ws",
        "outputId": "fcab7830-4b4c-4cd2-848f-c6cc0517d76a"
      },
      "execution_count": null,
      "outputs": [
        {
          "output_type": "execute_result",
          "data": {
            "text/plain": [
              "'cuda'"
            ],
            "application/vnd.google.colaboratory.intrinsic+json": {
              "type": "string"
            }
          },
          "metadata": {},
          "execution_count": 21
        }
      ]
    },
    {
      "cell_type": "code",
      "source": [],
      "metadata": {
        "id": "Eryr6cUpJwgl"
      },
      "execution_count": null,
      "outputs": []
    }
  ]
}